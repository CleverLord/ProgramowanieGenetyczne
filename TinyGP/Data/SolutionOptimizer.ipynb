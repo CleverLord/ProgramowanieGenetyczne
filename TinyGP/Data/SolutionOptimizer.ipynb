{
 "cells": [
  {
   "cell_type": "code",
   "execution_count": 5,
   "id": "7bb257fe",
   "metadata": {
    "pycharm": {
     "name": "#%%\n"
    }
   },
   "outputs": [],
   "source": [
    "import pandas as pd\n",
    "from sympy import *\n",
    "import os\n",
    "import time"
   ]
  },
  {
   "cell_type": "code",
   "execution_count": 6,
   "id": "9c6b1d6a",
   "metadata": {
    "pycharm": {
     "name": "#%%\n"
    }
   },
   "outputs": [],
   "source": [
    "def simplifyProblem(filename):\n",
    "    print(filename)\n",
    "    start = time.time()\n",
    "    f = open (path+filename,\"r\")\n",
    "\n",
    "    problem = f.read()\n",
    "    \n",
    "    try:\n",
    "        simplified=simplify(problem)\n",
    "        excel = mathematica_code(simplified)\n",
    "        excel = excel.replace(\".\",\",\").replace('[','(').replace(']',')').replace(\"X1\",\"A1\").replace(\"X2\",\"B1\")\n",
    "        print(path+str(filename))\n",
    "        if not os.path.exists(path+\"Simplified/\"):\n",
    "            os.makedirs(path+\"Simplified/\")\n",
    "\n",
    "        w = open(path+\"Simplified/\"+str(filename),\"w\")\n",
    "        w.write(excel)\n",
    "        w.write(\"\\n\")\n",
    "        w.close()\n",
    "        print(\"Processed:\"+str(filename))\n",
    "        end = time.time()\n",
    "        w = open(path+\"Simplified/\"+str(filename).replace(\"result\",\"time\"),\"w\")\n",
    "        w.write(str(end - start)) \n",
    "    except Exception as e:\n",
    "        #print(\"Could not process:\"+str(filename)+\"\\nreason: \"+str(e))\n",
    "        print(\"Could not process:\"+str(filename))"
   ]
  },
  {
   "cell_type": "code",
   "execution_count": 9,
   "id": "953a5cf9",
   "metadata": {
    "pycharm": {
     "name": "#%%\n"
    }
   },
   "outputs": [],
   "source": [
    "from os import listdir\n",
    "from os.path import isfile, join\n",
    "path=\"Results/Generated/Exp/\"\n",
    "onlyfiles = [f for f in listdir(path) if isfile(join(path, f))]"
   ]
  },
  {
   "cell_type": "code",
   "execution_count": 10,
   "id": "647e99d9",
   "metadata": {
    "pycharm": {
     "name": "#%%\n"
    }
   },
   "outputs": [
    {
     "name": "stdout",
     "output_type": "stream",
     "text": [
      "exGauss_1-result.txt\n",
      "Results/Generated/Exp/exGauss_1-result.txt\n",
      "Processed:exGauss_1-result.txt\n",
      "exGauss_2-result.txt\n",
      "Results/Generated/Exp/exGauss_2-result.txt\n",
      "Processed:exGauss_2-result.txt\n",
      "exSin-result.txt\n",
      "Results/Generated/Exp/exSin-result.txt\n",
      "Processed:exSin-result.txt\n",
      "exTan-result.txt\n",
      "Results/Generated/Exp/exTan-result.txt\n",
      "Processed:exTan-result.txt\n",
      "fun1-result.txt\n",
      "Results/Generated/Exp/fun1-result.txt\n",
      "Processed:fun1-result.txt\n",
      "fun1_1-result.txt\n",
      "Results/Generated/Exp/fun1_1-result.txt\n",
      "Processed:fun1_1-result.txt\n",
      "fun1_2-result.txt\n",
      "Results/Generated/Exp/fun1_2-result.txt\n",
      "Processed:fun1_2-result.txt\n",
      "fun1_3-result.txt\n",
      "Results/Generated/Exp/fun1_3-result.txt\n",
      "Processed:fun1_3-result.txt\n",
      "fun2-result.txt\n",
      "Results/Generated/Exp/fun2-result.txt\n",
      "Processed:fun2-result.txt\n",
      "fun2_1-result.txt\n",
      "Results/Generated/Exp/fun2_1-result.txt\n",
      "Processed:fun2_1-result.txt\n",
      "fun2_2-result.txt\n",
      "Results/Generated/Exp/fun2_2-result.txt\n",
      "Processed:fun2_2-result.txt\n",
      "fun2_3-result.txt\n",
      "Results/Generated/Exp/fun2_3-result.txt\n",
      "Processed:fun2_3-result.txt\n",
      "fun3-result.txt\n",
      "Results/Generated/Exp/fun3-result.txt\n",
      "Processed:fun3-result.txt\n",
      "fun3_1-result.txt\n",
      "Results/Generated/Exp/fun3_1-result.txt\n",
      "Processed:fun3_1-result.txt\n",
      "fun3_2-result.txt\n",
      "Results/Generated/Exp/fun3_2-result.txt\n",
      "Processed:fun3_2-result.txt\n",
      "fun3_3-result.txt\n",
      "Results/Generated/Exp/fun3_3-result.txt\n",
      "Processed:fun3_3-result.txt\n",
      "fun4-result.txt\n",
      "Results/Generated/Exp/fun4-result.txt\n",
      "Processed:fun4-result.txt\n",
      "fun4_1-result.txt\n",
      "Results/Generated/Exp/fun4_1-result.txt\n",
      "Processed:fun4_1-result.txt\n",
      "fun4_2-result.txt\n",
      "Results/Generated/Exp/fun4_2-result.txt\n",
      "Processed:fun4_2-result.txt\n",
      "fun4_3-result.txt\n",
      "Results/Generated/Exp/fun4_3-result.txt\n",
      "Processed:fun4_3-result.txt\n",
      "fun5-result.txt\n",
      "Results/Generated/Exp/fun5-result.txt\n",
      "Processed:fun5-result.txt\n",
      "fun5_1-result.txt\n",
      "Results/Generated/Exp/fun5_1-result.txt\n",
      "Processed:fun5_1-result.txt\n",
      "fun5_2-result.txt\n"
     ]
    },
    {
     "name": "stderr",
     "output_type": "stream",
     "text": [
      "\n",
      "KeyboardInterrupt\n",
      "\n"
     ]
    }
   ],
   "source": [
    "for x in onlyfiles:\n",
    "    simplifyProblem(x)"
   ]
  },
  {
   "cell_type": "code",
   "execution_count": null,
   "outputs": [],
   "source": [],
   "metadata": {
    "collapsed": false,
    "pycharm": {
     "name": "#%%\n"
    }
   }
  }
 ],
 "metadata": {
  "kernelspec": {
   "display_name": "Python 3 (ipykernel)",
   "language": "python",
   "name": "python3"
  },
  "language_info": {
   "codemirror_mode": {
    "name": "ipython",
    "version": 3
   },
   "file_extension": ".py",
   "mimetype": "text/x-python",
   "name": "python",
   "nbconvert_exporter": "python",
   "pygments_lexer": "ipython3",
   "version": "3.9.7"
  }
 },
 "nbformat": 4,
 "nbformat_minor": 5
}