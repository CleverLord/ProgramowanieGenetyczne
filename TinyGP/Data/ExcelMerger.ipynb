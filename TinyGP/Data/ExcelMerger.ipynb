{
 "cells": [
  {
   "cell_type": "code",
   "execution_count": 13,
   "metadata": {
    "collapsed": true,
    "pycharm": {
     "name": "#%%\n"
    }
   },
   "outputs": [],
   "source": [
    "import pandas as pd\n",
    "from os import listdir\n",
    "from os.path import isfile, join\n",
    "import numpy as np\n",
    "from math import sin, cos, tan, exp, inf\n",
    "path = \"pythonData/\"\n",
    "onlyfiles = [f for f in listdir(path) if isfile(join(path, f))]"
   ]
  },
  {
   "cell_type": "code",
   "execution_count": 14,
   "outputs": [
    {
     "data": {
      "text/plain": "['exGauss_1.dat',\n 'exGauss_2.dat',\n 'exSin.dat',\n 'exTan.dat',\n 'fun1.dat',\n 'fun1_1.dat',\n 'fun1_2.dat',\n 'fun1_3.dat',\n 'fun2.dat',\n 'fun2_1.dat',\n 'fun2_2.dat',\n 'fun2_3.dat',\n 'fun3.dat',\n 'fun3_1.dat',\n 'fun3_2.dat',\n 'fun3_3.dat',\n 'fun4.dat',\n 'fun4_1.dat',\n 'fun4_2.dat',\n 'fun4_3.dat',\n 'fun5.dat',\n 'fun5_1.dat',\n 'fun5_2.dat',\n 'fun5_3.dat',\n 'fun6.dat',\n 'fun6_1.dat',\n 'fun6_2.dat',\n 'fun6_3.dat']"
     },
     "execution_count": 14,
     "metadata": {},
     "output_type": "execute_result"
    }
   ],
   "source": [
    "onlyfiles"
   ],
   "metadata": {
    "collapsed": false,
    "pycharm": {
     "name": "#%%\n"
    }
   }
  },
  {
   "cell_type": "code",
   "execution_count": 15,
   "outputs": [],
   "source": [
    "onlyfiles = onlyfiles[4:] + onlyfiles[2:4] + onlyfiles[:2]"
   ],
   "metadata": {
    "collapsed": false,
    "pycharm": {
     "name": "#%%\n"
    }
   }
  },
  {
   "cell_type": "code",
   "execution_count": 16,
   "outputs": [],
   "source": [
    "def safeEval(f):\n",
    "    try:\n",
    "        return eval(f)\n",
    "    except:\n",
    "        return \"\""
   ],
   "metadata": {
    "collapsed": false,
    "pycharm": {
     "name": "#%%\n"
    }
   }
  },
  {
   "cell_type": "code",
   "execution_count": 17,
   "outputs": [],
   "source": [
    "noSinCosDf = pd.DataFrame()\n",
    "sinCosDf = pd.DataFrame()\n",
    "expDf = pd.DataFrame()"
   ],
   "metadata": {
    "collapsed": false,
    "pycharm": {
     "name": "#%%\n"
    }
   }
  },
  {
   "cell_type": "code",
   "execution_count": 18,
   "outputs": [],
   "source": [
    "for file in onlyfiles:\n",
    "    #for each training file\n",
    "    resultFile=file.replace(\".dat\", \"-result.txt\")\n",
    "\n",
    "    #convert it to df columns\n",
    "    src = open(\"pythonData/\"+file,\"r\").read()\n",
    "    header = src[:src.index('\\n')]\n",
    "    body = src[len(header)+1:][:-1]\n",
    "    columnCount = body[:body.index('\\n')].count(' ')\n",
    "    columns = []\n",
    "    for idx in range(columnCount):\n",
    "        columns.append(list())\n",
    "\n",
    "    rowCount=len(body.split('\\n'))\n",
    "    for r in body.split('\\n'):\n",
    "        v = r.split(' ')\n",
    "        for c in range(columnCount):\n",
    "            columns[c].append(v[c])\n",
    "\n",
    "    #load genetic solution\n",
    "    nsc = open(\"Results/Generated/NoSinCos/Simplified/\"+resultFile,\"r\").read().replace(',','.').replace('^','**')\n",
    "    sc = open(\"Results/Generated/SinCos/Simplified/\"+resultFile,\"r\").read().replace(',','.').replace('^','**').replace(\"SIN\",'sin').replace('COS','cos')\n",
    "    e = open(\"Results/Generated/Exp/Simplified/\"+resultFile,\"r\").read().replace(',','.').replace('^','**').replace(\"EXP\",'exp')\n",
    "\n",
    "    #add training file to DataFrames\n",
    "    columnName=file.replace('.dat','_')\n",
    "    for idx in range(columnCount):\n",
    "        sufix= \"c\" +str(idx+1)\n",
    "        if idx == columnCount:\n",
    "            sufix = \"target\"\n",
    "        noSinCosDf[columnName+sufix]=columns[idx]\n",
    "        sinCosDf[columnName+sufix]=columns[idx]\n",
    "        expDf[columnName+sufix]=columns[idx]\n",
    "\n",
    "    #evaluate genetic solition for each training row\n",
    "    nscVals=[]\n",
    "    scVals=[]\n",
    "    eVals=[]\n",
    "    for idx in range(rowCount):\n",
    "        A1=float(columns[0][idx])\n",
    "        B1=float(columns[1][idx]) #somtimes this is result, but only in cases were B is not used\n",
    "        nscVals.append(safeEval(nsc))\n",
    "        scVals.append(safeEval(sc))\n",
    "        eVals.append(safeEval(e))\n",
    "\n",
    "    #add results to dataFrame\n",
    "    noSinCosDf[columnName+'result']=nscVals\n",
    "    sinCosDf[columnName+'result']=scVals\n",
    "    expDf[columnName+'result']=eVals"
   ],
   "metadata": {
    "collapsed": false,
    "pycharm": {
     "name": "#%%\n"
    }
   }
  },
  {
   "cell_type": "code",
   "execution_count": 19,
   "outputs": [],
   "source": [
    "noSinCosDf.to_csv(\"noSinCosDf.csv\")\n",
    "sinCosDf.to_csv(\"sinCosDf.csv\")\n",
    "expDf.to_csv(\"expDf.csv\")"
   ],
   "metadata": {
    "collapsed": false,
    "pycharm": {
     "name": "#%%\n"
    }
   }
  },
  {
   "cell_type": "code",
   "execution_count": 20,
   "outputs": [
    {
     "data": {
      "text/plain": "               fun1_c1             fun1_c2   fun1_result           fun1_1_c1  \\\n0                -10.0             -5247.0 -2.286637e+08                 0.0   \n1   -9.797979797979798  -4941.445052504433 -2.240441e+08  1.0101010101010102   \n2   -9.595959595959595  -4648.049655827738 -2.194244e+08  2.0202020202020203   \n3   -9.393939393939394  -4366.566463533406 -2.148048e+08  3.0303030303030303   \n4   -9.191919191919192  -4096.748129184922 -2.101851e+08   4.040404040404041   \n..                 ...                 ...           ...                 ...   \n95    9.19191919191919  3724.7826154618297  2.101848e+08   95.95959595959597   \n96   9.393939393939394    3979.58207418538  2.148044e+08   96.96969696969697   \n97   9.595959595959595   4245.719893558583  2.194240e+08   97.97979797979798   \n98     9.7979797979798   4523.443420017955  2.240437e+08   98.98989898989899   \n99                10.0              4813.0  2.286633e+08               100.0   \n\n              fun1_1_c2 fun1_1_result            fun1_2_c1  \\\n0                 -17.0                               -1.0   \n1   -10.857254310269308                -0.9797979797979798   \n2    22.122579740884007                -0.9595959595959596   \n3    112.85780671731086                -0.9393939393939394   \n4    292.26673118286226                -0.9191919191919192   \n..                  ...           ...                  ...   \n95    4399951.286579705                 0.9191919191919193   \n96    4540557.182597323                 0.9393939393939394   \n97    4684127.154636869                 0.9595959595959598   \n98    4830692.121002907                 0.9797979797979799   \n99            4980283.0                                1.0   \n\n              fun1_2_c2  fun1_2_result           fun1_3_c1  ... exSin_result  \\\n0                 -27.0     -27.011715             -1000.0  ...                \n1   -26.562452398693598     -26.583316  -979.7979797979798  ...                \n2   -26.138533586038943     -26.162190  -959.5959595959596  ...                \n3   -25.727996215599525     -25.749599  -939.3939393939394  ...                \n4   -25.330592940938825     -25.346680  -919.1919191919192  ...                \n..                  ...            ...                 ...  ...          ...   \n95   -12.04906219629207     -13.251903   919.1919191919192  ...                \n96  -11.801847677880735     -13.171819   939.3939393939393  ...                \n97  -11.544764036652618     -13.091739   959.5959595959594  ...                \n98  -11.277563926171212     -13.011663   979.7979797979797  ...                \n99                -11.0     -12.931590              1000.0  ...                \n\n               exTan_c1            exTan_c2 exTan_result         exGauss_1_c1  \\\n0   -1.5707963267948966  1.5574077246549027                              -4.0   \n1   -1.5390630676677268   1.799019678548417                -3.919191919191919   \n2   -1.5073298085405573  2.1030110406094153               -3.8383838383838382   \n3   -1.4755965494133876   2.500794854636975                -3.757575757575758   \n4    -1.443863290286218  3.0489106775170183                -3.676767676767677   \n..                  ...                 ...          ...                  ...   \n95    1.443863290286218  0.9244010099705403                3.6767676767676774   \n96    1.475596549413388  1.0496150487975189                 3.757575757575758   \n97   1.5073298085405575  1.1927278278127056                 3.838383838383839   \n98    1.539063067667727  1.3593159620740625                3.9191919191919196   \n99   1.5707963267948966  1.5574077246549018                               4.0   \n\n              exGauss_1_c2 exGauss_1_result         exGauss_2_c1  \\\n0   0.00013383022576488537         0.000129                  0.0   \n1    0.0001842953023181513         0.000178  0.20202020202020202   \n2   0.00025213805615265854         0.000244  0.40404040404040403   \n3   0.00034270987295859193         0.000333   0.6060606060606061   \n4   0.00046278461445970013         0.000450   0.8080808080808081   \n..                     ...              ...                  ...   \n95  0.00046278461445969937         0.000450    19.19191919191919   \n96  0.00034270987295859193         0.000333   19.393939393939394   \n97   0.0002521380561526576         0.000244   19.595959595959595   \n98  0.00018429530231815096         0.000178     19.7979797979798   \n99  0.00013383022576488537         0.000129                 20.0   \n\n              exGauss_2_c2 exGauss_2_result  \n0       0.3989422804014327         0.410813  \n1      0.39088393119995174         0.390094  \n2       0.3676724358223576         0.367594  \n3      0.33200897997500833         0.333351  \n4       0.2878154423606714         0.288347  \n..                     ...              ...  \n95   4.160240415267769e-81                   \n96   8.441681996218076e-83                   \n97   1.644428709851763e-84                   \n98  3.0752230145178697e-86                   \n99   5.520948362159764e-88                   \n\n[100 rows x 96 columns]",
      "text/html": "<div>\n<style scoped>\n    .dataframe tbody tr th:only-of-type {\n        vertical-align: middle;\n    }\n\n    .dataframe tbody tr th {\n        vertical-align: top;\n    }\n\n    .dataframe thead th {\n        text-align: right;\n    }\n</style>\n<table border=\"1\" class=\"dataframe\">\n  <thead>\n    <tr style=\"text-align: right;\">\n      <th></th>\n      <th>fun1_c1</th>\n      <th>fun1_c2</th>\n      <th>fun1_result</th>\n      <th>fun1_1_c1</th>\n      <th>fun1_1_c2</th>\n      <th>fun1_1_result</th>\n      <th>fun1_2_c1</th>\n      <th>fun1_2_c2</th>\n      <th>fun1_2_result</th>\n      <th>fun1_3_c1</th>\n      <th>...</th>\n      <th>exSin_result</th>\n      <th>exTan_c1</th>\n      <th>exTan_c2</th>\n      <th>exTan_result</th>\n      <th>exGauss_1_c1</th>\n      <th>exGauss_1_c2</th>\n      <th>exGauss_1_result</th>\n      <th>exGauss_2_c1</th>\n      <th>exGauss_2_c2</th>\n      <th>exGauss_2_result</th>\n    </tr>\n  </thead>\n  <tbody>\n    <tr>\n      <th>0</th>\n      <td>-10.0</td>\n      <td>-5247.0</td>\n      <td>-2.286637e+08</td>\n      <td>0.0</td>\n      <td>-17.0</td>\n      <td></td>\n      <td>-1.0</td>\n      <td>-27.0</td>\n      <td>-27.011715</td>\n      <td>-1000.0</td>\n      <td>...</td>\n      <td></td>\n      <td>-1.5707963267948966</td>\n      <td>1.5574077246549027</td>\n      <td></td>\n      <td>-4.0</td>\n      <td>0.00013383022576488537</td>\n      <td>0.000129</td>\n      <td>0.0</td>\n      <td>0.3989422804014327</td>\n      <td>0.410813</td>\n    </tr>\n    <tr>\n      <th>1</th>\n      <td>-9.797979797979798</td>\n      <td>-4941.445052504433</td>\n      <td>-2.240441e+08</td>\n      <td>1.0101010101010102</td>\n      <td>-10.857254310269308</td>\n      <td></td>\n      <td>-0.9797979797979798</td>\n      <td>-26.562452398693598</td>\n      <td>-26.583316</td>\n      <td>-979.7979797979798</td>\n      <td>...</td>\n      <td></td>\n      <td>-1.5390630676677268</td>\n      <td>1.799019678548417</td>\n      <td></td>\n      <td>-3.919191919191919</td>\n      <td>0.0001842953023181513</td>\n      <td>0.000178</td>\n      <td>0.20202020202020202</td>\n      <td>0.39088393119995174</td>\n      <td>0.390094</td>\n    </tr>\n    <tr>\n      <th>2</th>\n      <td>-9.595959595959595</td>\n      <td>-4648.049655827738</td>\n      <td>-2.194244e+08</td>\n      <td>2.0202020202020203</td>\n      <td>22.122579740884007</td>\n      <td></td>\n      <td>-0.9595959595959596</td>\n      <td>-26.138533586038943</td>\n      <td>-26.162190</td>\n      <td>-959.5959595959596</td>\n      <td>...</td>\n      <td></td>\n      <td>-1.5073298085405573</td>\n      <td>2.1030110406094153</td>\n      <td></td>\n      <td>-3.8383838383838382</td>\n      <td>0.00025213805615265854</td>\n      <td>0.000244</td>\n      <td>0.40404040404040403</td>\n      <td>0.3676724358223576</td>\n      <td>0.367594</td>\n    </tr>\n    <tr>\n      <th>3</th>\n      <td>-9.393939393939394</td>\n      <td>-4366.566463533406</td>\n      <td>-2.148048e+08</td>\n      <td>3.0303030303030303</td>\n      <td>112.85780671731086</td>\n      <td></td>\n      <td>-0.9393939393939394</td>\n      <td>-25.727996215599525</td>\n      <td>-25.749599</td>\n      <td>-939.3939393939394</td>\n      <td>...</td>\n      <td></td>\n      <td>-1.4755965494133876</td>\n      <td>2.500794854636975</td>\n      <td></td>\n      <td>-3.757575757575758</td>\n      <td>0.00034270987295859193</td>\n      <td>0.000333</td>\n      <td>0.6060606060606061</td>\n      <td>0.33200897997500833</td>\n      <td>0.333351</td>\n    </tr>\n    <tr>\n      <th>4</th>\n      <td>-9.191919191919192</td>\n      <td>-4096.748129184922</td>\n      <td>-2.101851e+08</td>\n      <td>4.040404040404041</td>\n      <td>292.26673118286226</td>\n      <td></td>\n      <td>-0.9191919191919192</td>\n      <td>-25.330592940938825</td>\n      <td>-25.346680</td>\n      <td>-919.1919191919192</td>\n      <td>...</td>\n      <td></td>\n      <td>-1.443863290286218</td>\n      <td>3.0489106775170183</td>\n      <td></td>\n      <td>-3.676767676767677</td>\n      <td>0.00046278461445970013</td>\n      <td>0.000450</td>\n      <td>0.8080808080808081</td>\n      <td>0.2878154423606714</td>\n      <td>0.288347</td>\n    </tr>\n    <tr>\n      <th>...</th>\n      <td>...</td>\n      <td>...</td>\n      <td>...</td>\n      <td>...</td>\n      <td>...</td>\n      <td>...</td>\n      <td>...</td>\n      <td>...</td>\n      <td>...</td>\n      <td>...</td>\n      <td>...</td>\n      <td>...</td>\n      <td>...</td>\n      <td>...</td>\n      <td>...</td>\n      <td>...</td>\n      <td>...</td>\n      <td>...</td>\n      <td>...</td>\n      <td>...</td>\n      <td>...</td>\n    </tr>\n    <tr>\n      <th>95</th>\n      <td>9.19191919191919</td>\n      <td>3724.7826154618297</td>\n      <td>2.101848e+08</td>\n      <td>95.95959595959597</td>\n      <td>4399951.286579705</td>\n      <td></td>\n      <td>0.9191919191919193</td>\n      <td>-12.04906219629207</td>\n      <td>-13.251903</td>\n      <td>919.1919191919192</td>\n      <td>...</td>\n      <td></td>\n      <td>1.443863290286218</td>\n      <td>0.9244010099705403</td>\n      <td></td>\n      <td>3.6767676767676774</td>\n      <td>0.00046278461445969937</td>\n      <td>0.000450</td>\n      <td>19.19191919191919</td>\n      <td>4.160240415267769e-81</td>\n      <td></td>\n    </tr>\n    <tr>\n      <th>96</th>\n      <td>9.393939393939394</td>\n      <td>3979.58207418538</td>\n      <td>2.148044e+08</td>\n      <td>96.96969696969697</td>\n      <td>4540557.182597323</td>\n      <td></td>\n      <td>0.9393939393939394</td>\n      <td>-11.801847677880735</td>\n      <td>-13.171819</td>\n      <td>939.3939393939393</td>\n      <td>...</td>\n      <td></td>\n      <td>1.475596549413388</td>\n      <td>1.0496150487975189</td>\n      <td></td>\n      <td>3.757575757575758</td>\n      <td>0.00034270987295859193</td>\n      <td>0.000333</td>\n      <td>19.393939393939394</td>\n      <td>8.441681996218076e-83</td>\n      <td></td>\n    </tr>\n    <tr>\n      <th>97</th>\n      <td>9.595959595959595</td>\n      <td>4245.719893558583</td>\n      <td>2.194240e+08</td>\n      <td>97.97979797979798</td>\n      <td>4684127.154636869</td>\n      <td></td>\n      <td>0.9595959595959598</td>\n      <td>-11.544764036652618</td>\n      <td>-13.091739</td>\n      <td>959.5959595959594</td>\n      <td>...</td>\n      <td></td>\n      <td>1.5073298085405575</td>\n      <td>1.1927278278127056</td>\n      <td></td>\n      <td>3.838383838383839</td>\n      <td>0.0002521380561526576</td>\n      <td>0.000244</td>\n      <td>19.595959595959595</td>\n      <td>1.644428709851763e-84</td>\n      <td></td>\n    </tr>\n    <tr>\n      <th>98</th>\n      <td>9.7979797979798</td>\n      <td>4523.443420017955</td>\n      <td>2.240437e+08</td>\n      <td>98.98989898989899</td>\n      <td>4830692.121002907</td>\n      <td></td>\n      <td>0.9797979797979799</td>\n      <td>-11.277563926171212</td>\n      <td>-13.011663</td>\n      <td>979.7979797979797</td>\n      <td>...</td>\n      <td></td>\n      <td>1.539063067667727</td>\n      <td>1.3593159620740625</td>\n      <td></td>\n      <td>3.9191919191919196</td>\n      <td>0.00018429530231815096</td>\n      <td>0.000178</td>\n      <td>19.7979797979798</td>\n      <td>3.0752230145178697e-86</td>\n      <td></td>\n    </tr>\n    <tr>\n      <th>99</th>\n      <td>10.0</td>\n      <td>4813.0</td>\n      <td>2.286633e+08</td>\n      <td>100.0</td>\n      <td>4980283.0</td>\n      <td></td>\n      <td>1.0</td>\n      <td>-11.0</td>\n      <td>-12.931590</td>\n      <td>1000.0</td>\n      <td>...</td>\n      <td></td>\n      <td>1.5707963267948966</td>\n      <td>1.5574077246549018</td>\n      <td></td>\n      <td>4.0</td>\n      <td>0.00013383022576488537</td>\n      <td>0.000129</td>\n      <td>20.0</td>\n      <td>5.520948362159764e-88</td>\n      <td></td>\n    </tr>\n  </tbody>\n</table>\n<p>100 rows × 96 columns</p>\n</div>"
     },
     "execution_count": 20,
     "metadata": {},
     "output_type": "execute_result"
    }
   ],
   "source": [
    "expDf"
   ],
   "metadata": {
    "collapsed": false,
    "pycharm": {
     "name": "#%%\n"
    }
   }
  }
 ],
 "metadata": {
  "kernelspec": {
   "display_name": "Python 3",
   "language": "python",
   "name": "python3"
  },
  "language_info": {
   "codemirror_mode": {
    "name": "ipython",
    "version": 2
   },
   "file_extension": ".py",
   "mimetype": "text/x-python",
   "name": "python",
   "nbconvert_exporter": "python",
   "pygments_lexer": "ipython2",
   "version": "2.7.6"
  }
 },
 "nbformat": 4,
 "nbformat_minor": 0
}